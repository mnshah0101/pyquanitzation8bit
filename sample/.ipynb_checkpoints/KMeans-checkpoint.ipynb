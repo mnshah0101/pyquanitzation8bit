{
 "cells": [
  {
   "cell_type": "code",
   "execution_count": 36,
   "id": "f4155451",
   "metadata": {},
   "outputs": [],
   "source": [
    "\n",
    "# Number of data points\n",
    "num_points = 1000\n",
    "\n",
    "# Number of clusters\n",
    "num_clusters = 5\n",
    "\n",
    "# Generate random cluster centers between 0 and 256\n",
    "cluster_centers = np.random.uniform(0, 256, num_clusters)\n",
    "\n",
    "# Assign each data point to a random cluster\n",
    "data = np.random.choice(cluster_centers, num_points)\n",
    "\n",
    "# You can add some random noise to the data if desired\n",
    "noise = np.random.normal(0, 10, num_points)\n",
    "data += noise\n",
    "\n",
    "# Make sure data points stay within the range [0, 256]\n",
    "data = np.clip(data, 0, 256)\n",
    "\n"
   ]
  },
  {
   "cell_type": "code",
   "execution_count": 165,
   "id": "14c877c7",
   "metadata": {},
   "outputs": [],
   "source": [
    "import numpy as np\n",
    "class KMeans:\n",
    "    def __init__(self, array, k, iters):\n",
    "        self.array = np.asarray(array)\n",
    "        self.k = k\n",
    "        self.iterations = iters\n",
    "        self.raveled = self.array.ravel()\n",
    "        self.iteration =0\n",
    "        self.clusters = np.random.randint(256, size=(1,k))\n",
    "        self.previous_clusters =np.zeros((1,k))\n",
    "        self.distance_array = np.zeros((self.raveled.size, k))\n",
    "        \n",
    "    def train(self):\n",
    "        x = self.raveled.reshape(-1,1)\n",
    "        print('training')\n",
    "        while(self.iteration<self.iterations):\n",
    "            print(\"Iteration: \" + str(self.iteration))\n",
    "            self.previous_clusters = np.vstack(( self.previous_clusters, self.clusters))\n",
    "            np.abs(np.array([1,2,3,4,5]) - 3)\n",
    "            for i in range(len(self.raveled)):\n",
    "                 self.distance_array[i] = np.abs(i-self.clusters)\n",
    "            min_indices = np.argmin(self.distance_array, axis=1)\n",
    "            \n",
    "            min_values = np.min(self.distance_array, axis=1)\n",
    "            \n",
    "            new_matrix = np.zeros((self.clusters.size, self.raveled.size))\n",
    "\n",
    "            for i in range(self.clusters.size):\n",
    "                col_index = min_indices[i]\n",
    "                new_matrix[i, col_index] = min_values[i]\n",
    "                \n",
    "            non_zero_rows = new_matrix[~np.all(new_matrix == 0, axis=1)]\n",
    "            \n",
    "            self.clusters = np.mean(non_zero_rows, axis=1)\n",
    "            \n",
    "            break\n",
    "\n",
    "            \n",
    "            \n",
    "\n",
    "            \n",
    "\n",
    "                \n",
    "                \n",
    "            \n",
    "            \n",
    "            \n",
    "            \n",
    "            \n",
    "            \n",
    "            if(self._converged()):\n",
    "                break\n",
    "\n",
    "            self.iteration +=1\n",
    "            \n",
    "            \n",
    "        \n",
    "    def _converged(self):\n",
    "    \n",
    "\n",
    "        if (self.clusters == self.previous_clusters[-1]).all():\n",
    "            print('converged')\n",
    "            return True\n",
    "        else:\n",
    "            return False\n",
    "    \n",
    "        "
   ]
  },
  {
   "cell_type": "code",
   "execution_count": 167,
   "id": "8ff9a00c",
   "metadata": {},
   "outputs": [
    {
     "name": "stdout",
     "output_type": "stream",
     "text": [
      "training\n",
      "Iteration: 0\n",
      "Iteration: 1\n",
      "Iteration: 2\n",
      "Iteration: 3\n",
      "Iteration: 4\n",
      "Iteration: 5\n",
      "Iteration: 6\n",
      "Iteration: 7\n",
      "Iteration: 8\n",
      "Iteration: 9\n"
     ]
    },
    {
     "data": {
      "text/plain": [
       "array([3.30000000e-29, 9.91008991e-04, 1.99100899e-03, 2.99100899e-03,\n",
       "       3.99100899e-03, 4.99100899e-03, 5.99100899e-03, 6.99100899e-03,\n",
       "       7.99100899e-03, 8.99100899e-03])"
      ]
     },
     "execution_count": 167,
     "metadata": {},
     "output_type": "execute_result"
    }
   ],
   "source": [
    "kmeans = KMeans(data, 10, 10)\n",
    "kmeans.train()\n",
    "kmeans.clusters\n",
    "\n"
   ]
  },
  {
   "cell_type": "code",
   "execution_count": null,
   "id": "a0a9df63",
   "metadata": {},
   "outputs": [],
   "source": []
  }
 ],
 "metadata": {
  "kernelspec": {
   "display_name": "Python 3 (ipykernel)",
   "language": "python",
   "name": "python3"
  },
  "language_info": {
   "codemirror_mode": {
    "name": "ipython",
    "version": 3
   },
   "file_extension": ".py",
   "mimetype": "text/x-python",
   "name": "python",
   "nbconvert_exporter": "python",
   "pygments_lexer": "ipython3",
   "version": "3.10.6"
  }
 },
 "nbformat": 4,
 "nbformat_minor": 5
}
