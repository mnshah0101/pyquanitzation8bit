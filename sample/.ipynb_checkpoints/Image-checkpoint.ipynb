{
 "cells": [
  {
   "cell_type": "code",
   "execution_count": 21,
   "id": "71eb5174",
   "metadata": {},
   "outputs": [],
   "source": [
    "import PIL\n",
    "import numpy as np\n",
    "import matplotlib.pyplot as plt\n",
    "from KMeans import KMeans\n",
    "from itertools import combinations\n",
    "\n",
    "\n",
    "class Image:\n",
    "    \n",
    "    \n",
    "    def __init__(self, path, colors):\n",
    "        self.path = path\n",
    "        \n",
    "        new_path = self.path.split(\".\")\n",
    "        new_path[0] += str(k)\n",
    "        self.new_path = (\".\").join(new_path)\n",
    "       \n",
    "        \n",
    "        self.k = colors\n",
    "        \n",
    "        try:\n",
    "            self.image = PIL.Image.open(path)\n",
    "        except:\n",
    "            print(\"Print a valid Picture\")\n",
    "        self.array = np.asarray(self.image)\n",
    "    \n",
    "\n",
    "        self.raveled_array = self.array.ravel()\n",
    "        \n",
    "        self.smaller_image = []\n",
    "        self.pallette = 0\n",
    "     \n",
    "        \n",
    "    def create_image(self, array):\n",
    "            array = np.array(array, dtype=np.uint8)\n",
    "            return_image = PIL.Image.fromarray(array)\n",
    "            return self.save_image(return_image)\n",
    "        \n",
    "    def save_image(self,img):\n",
    "        try:\n",
    "            img.save(self.new_path, format=\"PNG\")\n",
    "            return True\n",
    "        except:\n",
    "            return False\n",
    "    def graph_image_channels(self):\n",
    "        plt.figure(figsize=(16, 6))\n",
    "        plt.hist( self.raveled_array, bins=np.arange(256), density=True, linewidth=0)\n",
    "        plt.xlabel(\"Value\")\n",
    "        plt.ylabel(\"Density\")\n",
    "    def train_image(self):\n",
    "        kmeans = KMeans(self.raveled_array, self.k, 100)\n",
    "        kmeans.train()\n",
    "        self.smaller_image = kmeans.predict()\n",
    "        self.pallette = np.array(kmeans.getPallette()).ravel()\n",
    "        return np.array(self.smaller_image, dtype=np.uint8).reshape(self.array.shape)\n",
    "    \n",
    "        \n",
    "\n",
    "\n"
   ]
  },
  {
   "cell_type": "code",
   "execution_count": 22,
   "id": "c54320a1",
   "metadata": {},
   "outputs": [],
   "source": [
    "image_new = Image(\"/Users/moksh/Desktop/personal/caroline.png\", 8)"
   ]
  },
  {
   "cell_type": "code",
   "execution_count": 23,
   "id": "e69c5f68",
   "metadata": {},
   "outputs": [
    {
     "name": "stdout",
     "output_type": "stream",
     "text": [
      "training\n",
      "Iteration: 0\n",
      "converged\n"
     ]
    }
   ],
   "source": [
    "predictions = image_new.train_image()\n",
    "create_image = image_new.create_image(predictions)\n",
    "\n"
   ]
  },
  {
   "cell_type": "code",
   "execution_count": null,
   "id": "c4cb623e",
   "metadata": {},
   "outputs": [],
   "source": []
  }
 ],
 "metadata": {
  "kernelspec": {
   "display_name": "Python 3 (ipykernel)",
   "language": "python",
   "name": "python3"
  },
  "language_info": {
   "codemirror_mode": {
    "name": "ipython",
    "version": 3
   },
   "file_extension": ".py",
   "mimetype": "text/x-python",
   "name": "python",
   "nbconvert_exporter": "python",
   "pygments_lexer": "ipython3",
   "version": "3.10.6"
  }
 },
 "nbformat": 4,
 "nbformat_minor": 5
}
